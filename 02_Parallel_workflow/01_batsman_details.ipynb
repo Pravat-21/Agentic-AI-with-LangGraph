{
 "cells": [
  {
   "cell_type": "code",
   "execution_count": 2,
   "id": "d0f4ff9e",
   "metadata": {},
   "outputs": [],
   "source": [
    "from langgraph.graph import StateGraph,START,END\n",
    "from typing import TypedDict"
   ]
  },
  {
   "cell_type": "code",
   "execution_count": 4,
   "id": "9c803b6e",
   "metadata": {},
   "outputs": [],
   "source": [
    "class Batsmanstate(TypedDict):\n",
    "\n",
    "    runs : int\n",
    "    balls : int\n",
    "    fours: int\n",
    "    sixes : int\n",
    "\n",
    "    sr : float\n",
    "    ball_per_boundary : float\n",
    "    boundary_percentage: float\n",
    "    summary:str"
   ]
  },
  {
   "cell_type": "code",
   "execution_count": 5,
   "id": "f7431864",
   "metadata": {},
   "outputs": [],
   "source": [
    "graph=StateGraph(Batsmanstate)"
   ]
  },
  {
   "cell_type": "code",
   "execution_count": 6,
   "id": "6a51dada",
   "metadata": {},
   "outputs": [],
   "source": [
    "def strike_rate(state:Batsmanstate)->Batsmanstate:\n",
    "    sr=round((state['runs']/state['balls'])*100,2)\n",
    "    return {'sr':sr}\n",
    "\n",
    "def calculate_bpb(state:Batsmanstate)->Batsmanstate:\n",
    "    bpb= round((state['fours']+state['sixes'])/state['balls'],2)\n",
    "    return {'ball_per_boundary': bpb}\n",
    "\n",
    "def boundary_per_run(state:Batsmanstate)->Batsmanstate:\n",
    "    bpr=round(((state['fours']*4)+(state['sixes']*6))/state['runs'],2)\n",
    "    return {'boundary_percentage':bpr}\n",
    "def summary(state:Batsmanstate)->Batsmanstate:\n",
    "    summary=f\"strike rate is {state['sr']}\\n ball per boundary is {state['ball_per_boundary']} & \\n boundary per run is {state['boundary_percentage']}\"\n",
    "    return {'summary':summary}"
   ]
  },
  {
   "cell_type": "code",
   "execution_count": null,
   "id": "e8de8ec2",
   "metadata": {},
   "outputs": [],
   "source": []
  },
  {
   "cell_type": "code",
   "execution_count": 7,
   "id": "ee57f887",
   "metadata": {},
   "outputs": [],
   "source": [
    "graph.add_node(\"strike_rate\",strike_rate)\n",
    "graph.add_node(\"bpb\",calculate_bpb)\n",
    "graph.add_node(\"boundary_per\",boundary_per_run)\n",
    "graph.add_node(\"summary\",summary)\n",
    "\n",
    "graph.add_edge(START,\"strike_rate\")\n",
    "graph.add_edge(START,\"bpb\")\n",
    "graph.add_edge(START,\"boundary_per\")\n",
    "\n",
    "graph.add_edge('strike_rate',\"summary\")\n",
    "graph.add_edge('bpb',\"summary\")\n",
    "graph.add_edge('boundary_per',\"summary\")\n",
    "graph.add_edge('summary',END)\n",
    "\n",
    "pl_workflow=graph.compile()"
   ]
  },
  {
   "cell_type": "code",
   "execution_count": 8,
   "id": "b1722c75",
   "metadata": {},
   "outputs": [
    {
     "data": {
      "image/png": "[encoded data removed]",
      "text/plain": [
       "<langgraph.graph.state.CompiledStateGraph object at 0x000001C95E4AC050>"
      ]
     },
     "execution_count": 8,
     "metadata": {},
     "output_type": "execute_result"
    }
   ],
   "source": [
    "pl_workflow"
   ]
  },
  {
   "cell_type": "code",
   "execution_count": 10,
   "id": "79606c76",
   "metadata": {},
   "outputs": [
    {
     "name": "stdout",
     "output_type": "stream",
     "text": [
      "{'runs': 100, 'balls': 50, 'fours': 6, 'sixes': 5, 'sr': 200.0, 'ball_per_boundary': 0.22, 'boundary_percentage': 0.54, 'summary': 'strike rate is 200.0\\n ball per boundary is 0.22 & \\n boundary per run is 0.54'}\n"
     ]
    }
   ],
   "source": [
    "initial_dict={\n",
    "    'runs' : 100,\n",
    "    'balls' : 50,\n",
    "    'fours': 6,\n",
    "    'sixes' : 5\n",
    "}\n",
    "\n",
    "output=pl_workflow.invoke(initial_dict)\n",
    "print(output)"
   ]
  },
  {
   "cell_type": "code",
   "execution_count": null,
   "id": "08f28bfe",
   "metadata": {},
   "outputs": [],
   "source": []
  }
 ],
 "metadata": {
  "kernelspec": {
   "display_name": "myvenv (3.13.3)",
   "language": "python",
   "name": "python3"
  },
  "language_info": {
   "codemirror_mode": {
    "name": "ipython",
    "version": 3
   },
   "file_extension": ".py",
   "mimetype": "text/x-python",
   "name": "python",
   "nbconvert_exporter": "python",
   "pygments_lexer": "ipython3",
   "version": "3.13.3"
  }
 },
 "nbformat": 4,
 "nbformat_minor": 5
}
