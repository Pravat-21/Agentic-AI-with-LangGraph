{
 "cells": [
  {
   "cell_type": "code",
   "execution_count": null,
   "id": "1689a97c",
   "metadata": {},
   "outputs": [],
   "source": []
  },
  {
   "cell_type": "code",
   "execution_count": 21,
   "id": "848261ce",
   "metadata": {},
   "outputs": [],
   "source": [
    "from langgraph.graph import StateGraph, START,END\n",
    "from langchain_huggingface import HuggingFaceEndpoint,ChatHuggingFace\n",
    "from dotenv import load_dotenv\n",
    "from typing import TypedDict,Annotated,Literal\n",
    "from pydantic import BaseModel, Field\n",
    "from langchain_core.output_parsers import PydanticOutputParser\n",
    "import operator"
   ]
  },
  {
   "cell_type": "code",
   "execution_count": 2,
   "id": "917143cb",
   "metadata": {},
   "outputs": [
    {
     "data": {
      "text/plain": [
       "True"
      ]
     },
     "execution_count": 2,
     "metadata": {},
     "output_type": "execute_result"
    }
   ],
   "source": [
    "load_dotenv()"
   ]
  },
  {
   "cell_type": "code",
   "execution_count": 3,
   "id": "8ed5c401",
   "metadata": {},
   "outputs": [],
   "source": [
    "llm=HuggingFaceEndpoint(\n",
    "    repo_id=\"deepseek-ai/DeepSeek-V3.1\", \n",
    "    \n",
    ")\n",
    "model= ChatHuggingFace(llm=llm)"
   ]
  },
  {
   "cell_type": "code",
   "execution_count": 49,
   "id": "cc81d3ef",
   "metadata": {},
   "outputs": [],
   "source": [
    "class EssayState(TypedDict):\n",
    "    eassy : str\n",
    "\n",
    "    language_feedback :str\n",
    "    analysis_feedback:str\n",
    "    clarity_feedback: str\n",
    "    overall_feedback:str\n",
    "\n",
    "    individual_score:Annotated[list[float],operator.add]\n",
    "    average_score:float\n"
   ]
  },
  {
   "cell_type": "code",
   "execution_count": 50,
   "id": "d1e01135",
   "metadata": {},
   "outputs": [],
   "source": [
    "class StructuredSchema(BaseModel):\n",
    "\n",
    "    feedback: str=Field(description=\"Detailed feedbackfor the essay\")\n",
    "    score :int =Field(ge=0,le=10,description=\"Score out of 10\")"
   ]
  },
  {
   "cell_type": "code",
   "execution_count": 51,
   "id": "a61977e2",
   "metadata": {},
   "outputs": [],
   "source": [
    "parser=PydanticOutputParser(pydantic_object=StructuredSchema)"
   ]
  },
  {
   "cell_type": "code",
   "execution_count": 52,
   "id": "1f759afe",
   "metadata": {},
   "outputs": [],
   "source": [
    "from langchain_core.prompts import PromptTemplate"
   ]
  },
  {
   "cell_type": "code",
   "execution_count": 53,
   "id": "e99388f3",
   "metadata": {},
   "outputs": [],
   "source": [
    "graph=StateGraph(EssayState)"
   ]
  },
  {
   "cell_type": "code",
   "execution_count": 54,
   "id": "1bbd9284",
   "metadata": {},
   "outputs": [],
   "source": [
    "def Evaluate_language(state:EssayState)->EssayState:\n",
    "    template=PromptTemplate(template=\"Evaluate the language quality of the following essay and provide a feedback and assign a score out of 10 \\n {essay} \\n {format_instruction}\",\n",
    "                        input_variables=['essay'],\n",
    "                        partial_variables={'format_instruction':parser.get_format_instructions()}\n",
    "                        )\n",
    "    chain=template|model|parser\n",
    "    output=chain.invoke({\"essay\":state['eassy']})\n",
    "    return {'language_feedback': output.feedback, 'individual_score': [output.score]}\n",
    "\n",
    "\n",
    "    "
   ]
  },
  {
   "cell_type": "code",
   "execution_count": 55,
   "id": "52d7762b",
   "metadata": {},
   "outputs": [],
   "source": [
    "def Evaluate_thought(state:EssayState)->EssayState:\n",
    "    template=PromptTemplate(template=\"\"\"Evaluate the clarity of thought of the following essay and provide a feedback and assign a score out of 10 \\n {essay} \\n {format_instruction}\"\"\",\n",
    "                        input_variables=['essay'],\n",
    "                        partial_variables={'format_instruction':parser.get_format_instructions()}\n",
    "                        )\n",
    "    chain=template|model|parser\n",
    "    output=chain.invoke({\"essay\":state['eassy']})\n",
    "    return {'clarity_feedback': output.feedback, 'individual_score': [output.score]}"
   ]
  },
  {
   "cell_type": "code",
   "execution_count": 56,
   "id": "a4b3002b",
   "metadata": {},
   "outputs": [],
   "source": [
    "def Evaluate_analysis(state:EssayState)->EssayState:\n",
    "    template=PromptTemplate(template=\"\"\"Evaluate the depth of analysis of the following essay and provide a feedback and assign a score out of 10 \\n {essay} \\n {format_instruction}\"\"\",\n",
    "                        input_variables=['essay'],\n",
    "                        partial_variables={'format_instruction':parser.get_format_instructions()}\n",
    "                        )\n",
    "    chain=template|model|parser\n",
    "    output=chain.invoke({\"essay\":state['eassy']})\n",
    "    return {'analysis_feedback': output.feedback, 'individual_score': [output.score]}"
   ]
  },
  {
   "cell_type": "code",
   "execution_count": 57,
   "id": "1177c592",
   "metadata": {},
   "outputs": [],
   "source": [
    "def final_evaluation(state: EssayState)->EssayState:\n",
    "\n",
    "    # summary feedback\n",
    "    prompt = f'Based on the following feedbacks create a summarized feedback \\n language feedback - {state[\"language_feedback\"]} \\n depth of analysis feedback - {state[\"analysis_feedback\"]} \\n clarity of thought feedback - {state[\"clarity_feedback\"]}'\n",
    "    overall_feedback = model.invoke(prompt).content\n",
    "\n",
    "    # avg calculate\n",
    "    avg_score = sum(state['individual_score'])/len(state['individual_score'])\n",
    "\n",
    "    return {'overall_feedback': overall_feedback, 'average_score': avg_score}"
   ]
  },
  {
   "cell_type": "code",
   "execution_count": 58,
   "id": "fed83184",
   "metadata": {},
   "outputs": [
    {
     "data": {
      "text/plain": [
       "<langgraph.graph.state.StateGraph at 0x1ceea5ae350>"
      ]
     },
     "execution_count": 58,
     "metadata": {},
     "output_type": "execute_result"
    }
   ],
   "source": [
    "graph.add_node(\"Evaluate_language\",Evaluate_language)\n",
    "graph.add_node(\"Evaluate_thought\",Evaluate_thought)\n",
    "graph.add_node(\"Evaluate_analysis\",Evaluate_analysis)\n",
    "graph.add_node(\"final_evaluation\",final_evaluation)\n",
    "\n",
    "graph.add_edge(START,\"Evaluate_language\")\n",
    "graph.add_edge(START,\"Evaluate_thought\")\n",
    "graph.add_edge(START,\"Evaluate_analysis\")\n",
    "\n",
    "graph.add_edge(\"Evaluate_language\",\"final_evaluation\")\n",
    "graph.add_edge(\"Evaluate_thought\",\"final_evaluation\")\n",
    "graph.add_edge(\"Evaluate_analysis\",\"final_evaluation\")\n",
    "\n",
    "graph.add_edge(\"final_evaluation\",END)\n"
   ]
  },
  {
   "cell_type": "code",
   "execution_count": 59,
   "id": "23fc4fdb",
   "metadata": {},
   "outputs": [],
   "source": [
    "workflow=graph.compile()"
   ]
  },
  {
   "cell_type": "code",
   "execution_count": 60,
   "id": "90f973a8",
   "metadata": {},
   "outputs": [
    {
     "data": {
      "image/png": "[encoded data removed]",
      "text/plain": [
       "<langgraph.graph.state.CompiledStateGraph object at 0x000001CEEA5AEC10>"
      ]
     },
     "execution_count": 60,
     "metadata": {},
     "output_type": "execute_result"
    }
   ],
   "source": [
    "workflow"
   ]
  },
  {
   "cell_type": "code",
   "execution_count": 61,
   "id": "fdeeba5b",
   "metadata": {},
   "outputs": [],
   "source": [
    "essay1 = \"\"\"India in the Age of AI\n",
    "As the world enters a transformative era defined by artificial intelligence (AI), India stands at a critical juncture — one where it can either emerge as a global leader in AI innovation or risk falling behind in the technology race. The age of AI brings with it immense promise as well as unprecedented challenges, and how India navigates this landscape will shape its socio-economic and geopolitical future.\n",
    "\n",
    "India's strengths in the AI domain are rooted in its vast pool of skilled engineers, a thriving IT industry, and a growing startup ecosystem. With over 5 million STEM graduates annually and a burgeoning base of AI researchers, India possesses the intellectual capital required to build cutting-edge AI systems. Institutions like IITs, IIITs, and IISc have begun fostering AI research, while private players such as TCS, Infosys, and Wipro are integrating AI into their global services. In 2020, the government launched the National AI Strategy (AI for All) with a focus on inclusive growth, aiming to leverage AI in healthcare, agriculture, education, and smart mobility.\n",
    "\n",
    "One of the most promising applications of AI in India lies in agriculture, where predictive analytics can guide farmers on optimal sowing times, weather forecasts, and pest control. In healthcare, AI-powered diagnostics can help address India’s doctor-patient ratio crisis, particularly in rural areas. Educational platforms are increasingly using AI to personalize learning paths, while smart governance tools are helping improve public service delivery and fraud detection.\n",
    "\n",
    "However, the path to AI-led growth is riddled with challenges. Chief among them is the digital divide. While metropolitan cities may embrace AI-driven solutions, rural India continues to struggle with basic internet access and digital literacy. The risk of job displacement due to automation also looms large, especially for low-skilled workers. Without effective skilling and re-skilling programs, AI could exacerbate existing socio-economic inequalities.\n",
    "\n",
    "Another pressing concern is data privacy and ethics. As AI systems rely heavily on vast datasets, ensuring that personal data is used transparently and responsibly becomes vital. India is still shaping its data protection laws, and in the absence of a strong regulatory framework, AI systems may risk misuse or bias.\n",
    "\n",
    "To harness AI responsibly, India must adopt a multi-stakeholder approach involving the government, academia, industry, and civil society. Policies should promote open datasets, encourage responsible innovation, and ensure ethical AI practices. There is also a need for international collaboration, particularly with countries leading in AI research, to gain strategic advantage and ensure interoperability in global systems.\n",
    "\n",
    "India’s demographic dividend, when paired with responsible AI adoption, can unlock massive economic growth, improve governance, and uplift marginalized communities. But this vision will only materialize if AI is seen not merely as a tool for automation, but as an enabler of human-centered development.\n",
    "\n",
    "In conclusion, India in the age of AI is a story in the making — one of opportunity, responsibility, and transformation. The decisions we make today will not just determine India’s AI trajectory, but also its future as an inclusive, equitable, and innovation-driven society.\"\"\""
   ]
  },
  {
   "cell_type": "code",
   "execution_count": 62,
   "id": "9fc199b2",
   "metadata": {},
   "outputs": [
    {
     "data": {
      "text/plain": [
       "{'eassy': \"India in the Age of AI\\nAs the world enters a transformative era defined by artificial intelligence (AI), India stands at a critical juncture — one where it can either emerge as a global leader in AI innovation or risk falling behind in the technology race. The age of AI brings with it immense promise as well as unprecedented challenges, and how India navigates this landscape will shape its socio-economic and geopolitical future.\\n\\nIndia's strengths in the AI domain are rooted in its vast pool of skilled engineers, a thriving IT industry, and a growing startup ecosystem. With over 5 million STEM graduates annually and a burgeoning base of AI researchers, India possesses the intellectual capital required to build cutting-edge AI systems. Institutions like IITs, IIITs, and IISc have begun fostering AI research, while private players such as TCS, Infosys, and Wipro are integrating AI into their global services. In 2020, the government launched the National AI Strategy (AI for All) with a focus on inclusive growth, aiming to leverage AI in healthcare, agriculture, education, and smart mobility.\\n\\nOne of the most promising applications of AI in India lies in agriculture, where predictive analytics can guide farmers on optimal sowing times, weather forecasts, and pest control. In healthcare, AI-powered diagnostics can help address India’s doctor-patient ratio crisis, particularly in rural areas. Educational platforms are increasingly using AI to personalize learning paths, while smart governance tools are helping improve public service delivery and fraud detection.\\n\\nHowever, the path to AI-led growth is riddled with challenges. Chief among them is the digital divide. While metropolitan cities may embrace AI-driven solutions, rural India continues to struggle with basic internet access and digital literacy. The risk of job displacement due to automation also looms large, especially for low-skilled workers. Without effective skilling and re-skilling programs, AI could exacerbate existing socio-economic inequalities.\\n\\nAnother pressing concern is data privacy and ethics. As AI systems rely heavily on vast datasets, ensuring that personal data is used transparently and responsibly becomes vital. India is still shaping its data protection laws, and in the absence of a strong regulatory framework, AI systems may risk misuse or bias.\\n\\nTo harness AI responsibly, India must adopt a multi-stakeholder approach involving the government, academia, industry, and civil society. Policies should promote open datasets, encourage responsible innovation, and ensure ethical AI practices. There is also a need for international collaboration, particularly with countries leading in AI research, to gain strategic advantage and ensure interoperability in global systems.\\n\\nIndia’s demographic dividend, when paired with responsible AI adoption, can unlock massive economic growth, improve governance, and uplift marginalized communities. But this vision will only materialize if AI is seen not merely as a tool for automation, but as an enabler of human-centered development.\\n\\nIn conclusion, India in the age of AI is a story in the making — one of opportunity, responsibility, and transformation. The decisions we make today will not just determine India’s AI trajectory, but also its future as an inclusive, equitable, and innovation-driven society.\",\n",
       " 'language_feedback': \"This essay demonstrates excellent language quality with strong academic writing skills. The vocabulary is sophisticated and precise ('transformative era,' 'unprecedented challenges,' 'burgeoning base'). Sentence structure is varied and complex, showing good command of syntax. The essay flows logically with clear transitions between paragraphs. Grammar and punctuation are flawless throughout. The tone is formal and appropriate for an analytical piece. The introduction effectively sets up the thesis, and the conclusion provides a thoughtful synthesis. Minor room for improvement exists in potentially adding more rhetorical devices or stylistic flourishes, but overall this is highly polished writing.\",\n",
       " 'analysis_feedback': \"This essay demonstrates a solid understanding of the AI landscape in India with a well-structured and balanced analysis. The strengths are effectively covered, including India's human capital, institutional capacity, and the National AI Strategy, supported by specific examples of applications in agriculture, healthcare, and education. The challenges section appropriately identifies key issues like the digital divide, job displacement risks, and data privacy concerns. The conclusion offers meaningful recommendations for a multi-stakeholder approach and responsible innovation. However, the analysis could be deepened by including more specific data points (e.g., actual impact metrics from AI implementations), discussing India's position relative to other AI leaders (US, China), addressing the funding landscape for AI research, and exploring the geopolitical implications more thoroughly. The essay is comprehensive but stays at a general level rather than delving into nuanced trade-offs or controversial aspects of AI adoption.\",\n",
       " 'clarity_feedback': \"This essay demonstrates excellent clarity of thought through its well-structured organization and coherent progression of ideas. The author establishes a clear thesis statement in the introduction, presenting India's position at a critical juncture with AI. The essay then systematically develops this thesis by: 1) Identifying India's strengths (skilled workforce, IT industry, institutional research), 2) Exploring specific application areas (agriculture, healthcare, education), 3) Addressing challenges honestly (digital divide, job displacement, data ethics), and 4) Proposing solutions (multi-stakeholder approach, responsible innovation). The conclusion effectively synthesizes the main points while reinforcing the central thesis. The language is precise and professional, with appropriate transitions between paragraphs. The arguments are balanced, acknowledging both opportunities and risks without oversimplifying either. The only minor area for improvement would be to provide slightly more specific examples or data points to strengthen the evidence supporting certain claims, though the existing examples are well-chosen and relevant.\",\n",
       " 'overall_feedback': 'Of course. Here is a consolidated and summarized feedback based on the provided points.\\n\\n***\\n\\n### **Overall Summary**\\n\\nThis is an excellent, well-structured, and highly polished analytical essay. It demonstrates strong academic writing skills and a clear, logical understanding of the topic. The analysis is comprehensive and balanced, though it could be elevated from very good to outstanding by incorporating more specific data and deeper, more nuanced exploration.\\n\\n### **Strengths**\\n\\n*   **Exceptional Writing Quality:** The language is sophisticated, precise, and grammatically flawless. Sentence structure is varied, and the tone is perfectly suited for an academic context.\\n*   **Superb Organization:** The essay is logically structured with a clear thesis, well-defined sections, and smooth transitions, making the argument easy to follow.\\n*   **Balanced and Comprehensive Analysis:** You effectively cover both the significant strengths (human capital, institutional strategy, real-world applications) and the critical challenges (digital divide, job displacement, ethics) of AI adoption in India.\\n*   **Strong Conclusion:** The conclusion provides a thoughtful synthesis and meaningful, well-reasoned recommendations.\\n\\n### **Areas for Development**\\n\\n*   **Deepen the Analysis with Specifics:** The analysis is strong but general. To make it more impactful, incorporate:\\n    *   **Specific data points and metrics** (e.g., the quantified impact of an AI pilot in agriculture).\\n    *   **Comparative analysis** with other global AI leaders (e.g., the US and China).\\n    *   **Discussion of funding** for AI research and development in India.\\n    *   **More nuanced exploration** of geopolitical implications and potential trade-offs.\\n*   **Enhance Evidentiary Support:** While the examples are relevant, strengthening key claims with more concrete data or statistics would make the argument even more persuasive.\\n*   **Stylistic Flourish (Optional):** As a minor point, incorporating more rhetorical devices could add an extra layer of sophistication to the already excellent prose.\\n\\n**In essence: This is a high-quality piece. Focusing on adding granular detail and a more comparative/geopolitical context will transform it from a great overview into a powerful, in-depth analysis.**',\n",
       " 'individual_score': [7, 9, 9],\n",
       " 'average_score': 8.333333333333334}"
      ]
     },
     "execution_count": 62,
     "metadata": {},
     "output_type": "execute_result"
    }
   ],
   "source": [
    "workflow.invoke({\"eassy\":essay1})"
   ]
  },
  {
   "cell_type": "code",
   "execution_count": 63,
   "id": "bb06c1f4",
   "metadata": {},
   "outputs": [],
   "source": [
    "essay2 = \"\"\"India and AI Time\n",
    "\n",
    "Now world change very fast because new tech call Artificial Intel… something (AI). India also want become big in this AI thing. If work hard, India can go top. But if no careful, India go back.\n",
    "\n",
    "India have many good. We have smart student, many engine-ear, and good IT peoples. Big company like TCS, Infosys, Wipro already use AI. Government also do program “AI for All”. It want AI in farm, doctor place, school and transport.\n",
    "\n",
    "In farm, AI help farmer know when to put seed, when rain come, how stop bug. In health, AI help doctor see sick early. In school, AI help student learn good. Government office use AI to find bad people and work fast.\n",
    "\n",
    "But problem come also. First is many villager no have phone or internet. So AI not help them. Second, many people lose job because AI and machine do work. Poor people get more bad.\n",
    "\n",
    "One more big problem is privacy. AI need big big data. Who take care? India still make data rule. If no strong rule, AI do bad.\n",
    "\n",
    "India must all people together – govern, school, company and normal people. We teach AI and make sure AI not bad. Also talk to other country and learn from them.\n",
    "\n",
    "If India use AI good way, we become strong, help poor and make better life. But if only rich use AI, and poor no get, then big bad thing happen.\n",
    "\n",
    "So, in short, AI time in India have many hope and many danger. We must go right road. AI must help all people, not only some. Then India grow big and world say \"good job India\".\"\"\""
   ]
  },
  {
   "cell_type": "code",
   "execution_count": 65,
   "id": "19fd2319",
   "metadata": {},
   "outputs": [
    {
     "data": {
      "text/plain": [
       "{'eassy': 'India and AI Time\\n\\nNow world change very fast because new tech call Artificial Intel… something (AI). India also want become big in this AI thing. If work hard, India can go top. But if no careful, India go back.\\n\\nIndia have many good. We have smart student, many engine-ear, and good IT peoples. Big company like TCS, Infosys, Wipro already use AI. Government also do program “AI for All”. It want AI in farm, doctor place, school and transport.\\n\\nIn farm, AI help farmer know when to put seed, when rain come, how stop bug. In health, AI help doctor see sick early. In school, AI help student learn good. Government office use AI to find bad people and work fast.\\n\\nBut problem come also. First is many villager no have phone or internet. So AI not help them. Second, many people lose job because AI and machine do work. Poor people get more bad.\\n\\nOne more big problem is privacy. AI need big big data. Who take care? India still make data rule. If no strong rule, AI do bad.\\n\\nIndia must all people together – govern, school, company and normal people. We teach AI and make sure AI not bad. Also talk to other country and learn from them.\\n\\nIf India use AI good way, we become strong, help poor and make better life. But if only rich use AI, and poor no get, then big bad thing happen.\\n\\nSo, in short, AI time in India have many hope and many danger. We must go right road. AI must help all people, not only some. Then India grow big and world say \"good job India\".',\n",
       " 'language_feedback': \"The essay presents a clear and thoughtful message about India's potential and challenges with AI, demonstrating good conceptual understanding. However, the language quality is significantly impacted by numerous grammatical errors, inconsistent tense usage, and informal vocabulary. Strengths include a logical structure with introduction, body paragraphs (benefits and problems), and conclusion. The ideas are coherent and relevant. Areas for improvement include: correcting subject-verb agreement ('India have' -> 'India has'), using proper tenses ('world change' -> 'world is changing'), expanding contractions ('can not' instead of 'can't'), using formal vocabulary ('thing' -> 'field/technology', 'engine-ear' -> 'engineers'), and improving sentence construction for better flow. Spelling and punctuation also need attention.\",\n",
       " 'analysis_feedback': \"The essay demonstrates a basic understanding of AI's potential and challenges in India but lacks depth in analysis. The author identifies key areas where AI could be beneficial (agriculture, healthcare, education) and acknowledges important challenges (digital divide, job displacement, data privacy). However, the analysis remains superficial. Points are stated as simple observations without exploration of underlying causes, evidence, or specific examples. The language is very simplistic and often grammatically incorrect, which detracts from the credibility of the analysis. The structure is present but rudimentary. To improve, the author should: 1) Use more precise, academic language; 2) Provide specific examples and data to support claims (e.g., which specific AI projects in agriculture? What percentage of the population lacks internet?); 3) Explore the 'why' behind the challenges more deeply (e.g., systemic reasons for the digital divide, specific sectors most at risk for job loss); 4) Discuss potential solutions for the identified problems in more detail, moving beyond general statements like 'teach AI' and 'make strong rules'. The conclusion is appropriate but could be more powerful with a stronger summary of the main argument.\",\n",
       " 'clarity_feedback': \"The essay demonstrates a clear understanding of the core topic: the potential benefits and risks of AI for India. The author's thought process is logical and well-structured, moving from India's current strengths in AI to its applications, then to the challenges, and finally to the necessary steps and potential outcomes. The central argument—that AI must be inclusive to benefit India—is clear and consistent throughout. However, the clarity of thought is significantly hampered by the language used. The grammar, spelling, and vocabulary errors ('engine-ear', 'govern', 'big bad thing') are frequent and severe enough to distract the reader and obscure the author's intended meaning at times. The ideas are good, but their expression lacks the precision and sophistication needed for full clarity. The essay would benefit immensely from improved language mechanics to match the quality of its underlying structure and ideas.\",\n",
       " 'overall_feedback': 'Of course. Here is a summarized feedback that combines all the provided points.\\n\\n***\\n\\n### **Overall Summary**\\n\\nThe essay presents a strong, logical, and well-structured argument about the need for inclusive AI development in India. The core ideas are relevant, coherent, and demonstrate a good conceptual understanding of the topic. However, the overall impact is significantly undermined by two main issues: **superficial analysis** and **frequent language errors**.\\n\\n### **Key Strengths**\\n\\n*   **Clear Structure:** The essay is logically organized with an introduction, body paragraphs (covering benefits and challenges), and a conclusion.\\n*   **Coherent Ideas:** The central argument—that India must harness AI inclusively to succeed—is consistent and well-presented.\\n*   **Relevant Content:** You correctly identified key areas of AI\\'s potential (agriculture, healthcare) and its major challenges (digital divide, job displacement).\\n\\n### **Primary Areas for Improvement**\\n\\n**1. Depth of Analysis: Move from Observation to Exploration**\\nCurrently, points are stated as simple observations. To strengthen the essay, you need to provide deeper analysis by:\\n*   **Including specific examples and data** (e.g., name a specific AI project in agriculture, cite statistics on internet access).\\n*   **Exploring underlying causes** (e.g., *why* the digital divide exists, *which* specific jobs are most at risk).\\n*   **Detailing solutions** beyond general statements (e.g., what would \"strong rules\" for data privacy look like?).\\n\\n**2. Language and Mechanics: Enhance Clarity and Formality**\\nThe frequent grammatical errors and informal vocabulary detract from the essay\\'s credibility and obscure your good ideas. Focus on:\\n*   **Grammar & Tense:** Correct subject-verb agreement (\"India has\") and maintain consistent tense usage.\\n*   **Formal Vocabulary:** Replace informal words (\"thing,\" \"big bad\") with precise terms (\"technology,\" \"significant risk\"). Use correct spelling (\"engineers,\" \"government\").\\n*   **Sentence Construction:** Proofread to improve sentence flow and avoid contractions (\"cannot\" instead of \"can\\'t\").\\n\\n### **Final Takeaway**\\n\\nYou have a solid foundation of ideas and structure. By providing more detailed evidence and examples, and by carefully revising for grammar and vocabulary, your writing will become much more powerful, clear, and persuasive.',\n",
       " 'individual_score': [4, 4, 5],\n",
       " 'average_score': 4.333333333333333}"
      ]
     },
     "execution_count": 65,
     "metadata": {},
     "output_type": "execute_result"
    }
   ],
   "source": [
    "workflow.invoke({\"eassy\":essay2})"
   ]
  },
  {
   "cell_type": "code",
   "execution_count": null,
   "id": "6ffd5672",
   "metadata": {},
   "outputs": [],
   "source": []
  }
 ],
 "metadata": {
  "kernelspec": {
   "display_name": "myvenv (3.13.3)",
   "language": "python",
   "name": "python3"
  },
  "language_info": {
   "codemirror_mode": {
    "name": "ipython",
    "version": 3
   },
   "file_extension": ".py",
   "mimetype": "text/x-python",
   "name": "python",
   "nbconvert_exporter": "python",
   "pygments_lexer": "ipython3",
   "version": "3.13.3"
  }
 },
 "nbformat": 4,
 "nbformat_minor": 5
}
