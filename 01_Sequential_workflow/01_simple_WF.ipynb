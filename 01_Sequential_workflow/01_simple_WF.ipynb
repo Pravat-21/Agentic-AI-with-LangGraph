{
 "cells": [
  {
   "cell_type": "code",
   "execution_count": 2,
   "id": "2a0454e3",
   "metadata": {},
   "outputs": [],
   "source": [
    "from langgraph.graph import StateGraph,START,END\n",
    "from dotenv import load_dotenv\n",
    "from typing import TypedDict"
   ]
  },
  {
   "cell_type": "code",
   "execution_count": 3,
   "id": "6dffb375",
   "metadata": {},
   "outputs": [],
   "source": [
    "class BMIstate(TypedDict):\n",
    "\n",
    "    weight : float\n",
    "    height : float\n",
    "    BMI : float"
   ]
  },
  {
   "cell_type": "code",
   "execution_count": 4,
   "id": "3c1d6b8a",
   "metadata": {},
   "outputs": [],
   "source": [
    "def BMI_calculator(state: BMIstate)->BMIstate:\n",
    "    state['BMI']=state['weight']/(state['height']**2)\n",
    "    return state"
   ]
  },
  {
   "cell_type": "code",
   "execution_count": 12,
   "id": "f831c50b",
   "metadata": {},
   "outputs": [],
   "source": [
    "# Define graph\n",
    "graph= StateGraph(BMIstate)"
   ]
  },
  {
   "cell_type": "code",
   "execution_count": 13,
   "id": "36c9602b",
   "metadata": {},
   "outputs": [],
   "source": [
    "# Add nodes\n",
    "graph.add_node(\"BMI calculator\",BMI_calculator)\n",
    "# Add edges\n",
    "graph.add_edge(START,\"BMI calculator\")\n",
    "graph.add_edge(\"BMI calculator\",END)\n",
    "\n",
    "#compile graph\n",
    "workflow=graph.compile()\n"
   ]
  },
  {
   "cell_type": "code",
   "execution_count": 14,
   "id": "2545cce2",
   "metadata": {},
   "outputs": [
    {
     "name": "stdout",
     "output_type": "stream",
     "text": [
      "{'weight': 100, 'height': 5.1, 'BMI': 3.8446751249519417}\n"
     ]
    }
   ],
   "source": [
    "#execution\n",
    "initial_state={'weight':100,'height':5.1}\n",
    "final_state=workflow.invoke(initial_state)\n",
    "print(final_state)"
   ]
  },
  {
   "cell_type": "code",
   "execution_count": null,
   "id": "85e68185",
   "metadata": {},
   "outputs": [],
   "source": []
  }
 ],
 "metadata": {
  "kernelspec": {
   "display_name": "myvenv (3.13.3)",
   "language": "python",
   "name": "python3"
  },
  "language_info": {
   "codemirror_mode": {
    "name": "ipython",
    "version": 3
   },
   "file_extension": ".py",
   "mimetype": "text/x-python",
   "name": "python",
   "nbconvert_exporter": "python",
   "pygments_lexer": "ipython3",
   "version": "3.13.3"
  }
 },
 "nbformat": 4,
 "nbformat_minor": 5
}
