{
 "cells": [
  {
   "cell_type": "code",
   "execution_count": 2,
   "id": "7bc586d8",
   "metadata": {},
   "outputs": [],
   "source": [
    "from langchain_huggingface import ChatHuggingFace,HuggingFaceEndpoint\n",
    "from langgraph.graph import StateGraph, END, START\n",
    "from dotenv import load_dotenv\n",
    "from typing import TypedDict"
   ]
  },
  {
   "cell_type": "code",
   "execution_count": 3,
   "id": "5947b17e",
   "metadata": {},
   "outputs": [
    {
     "data": {
      "text/plain": [
       "True"
      ]
     },
     "execution_count": 3,
     "metadata": {},
     "output_type": "execute_result"
    }
   ],
   "source": [
    "load_dotenv()"
   ]
  },
  {
   "cell_type": "code",
   "execution_count": 4,
   "id": "30b54251",
   "metadata": {},
   "outputs": [],
   "source": [
    "llm=HuggingFaceEndpoint(\n",
    "    repo_id=\"deepseek-ai/DeepSeek-V3.1\", \n",
    "    \n",
    ")\n",
    "model= ChatHuggingFace(llm=llm)"
   ]
  },
  {
   "cell_type": "code",
   "execution_count": 5,
   "id": "f2836e79",
   "metadata": {},
   "outputs": [],
   "source": [
    "class Blogstate(TypedDict):\n",
    "\n",
    "    title : str\n",
    "    outline :  str\n",
    "    content : str"
   ]
  },
  {
   "cell_type": "code",
   "execution_count": 6,
   "id": "dfada583",
   "metadata": {},
   "outputs": [],
   "source": [
    "graph=StateGraph(Blogstate)\n"
   ]
  },
  {
   "cell_type": "code",
   "execution_count": 7,
   "id": "bc7df9b6",
   "metadata": {},
   "outputs": [],
   "source": [
    "def outline_node(state: Blogstate)->Blogstate:\n",
    "    title=state['title']\n",
    "    prompt=f\"Generate a outline for the given topic-{title}\"\n",
    "    state['outline']=model.invoke(prompt).content\n",
    "    return state\n"
   ]
  },
  {
   "cell_type": "code",
   "execution_count": 8,
   "id": "f8405fcd",
   "metadata": {},
   "outputs": [],
   "source": [
    "def blog_func(state: Blogstate)->Blogstate:\n",
    "    prompt=f\"Generate a detailed blog by using this topic-{state['title']} & given outline\\n {state['outline']}\"\n",
    "    output=model.invoke(prompt).content\n",
    "    state['content']=output\n",
    "    return state"
   ]
  },
  {
   "cell_type": "code",
   "execution_count": 9,
   "id": "2119fff6",
   "metadata": {},
   "outputs": [
    {
     "data": {
      "text/plain": [
       "<langgraph.graph.state.StateGraph at 0x1435f836120>"
      ]
     },
     "execution_count": 9,
     "metadata": {},
     "output_type": "execute_result"
    }
   ],
   "source": [
    "graph.add_node(\"outline node\",outline_node)\n",
    "graph.add_node(\"Blog node\",blog_func)\n",
    "\n",
    "graph.add_edge(START,\"outline node\")\n",
    "graph.add_edge(\"outline node\",\"Blog node\")\n",
    "graph.add_edge(\"Blog node\",END)"
   ]
  },
  {
   "cell_type": "code",
   "execution_count": 11,
   "id": "1ab0093c",
   "metadata": {},
   "outputs": [],
   "source": [
    "workflow=graph.compile()"
   ]
  },
  {
   "cell_type": "code",
   "execution_count": 13,
   "id": "75590a0f",
   "metadata": {},
   "outputs": [
    {
     "name": "stdout",
     "output_type": "stream",
     "text": [
      "{'title': 'Rohit Sharma', 'outline': 'Of course! Here is a detailed outline for the topic \"Rohit Sharma,\" structured to cover his life and career comprehensively. This outline can be adapted for a biography, a research paper, a presentation, or a detailed article.\\n\\n### **Title: Rohit Sharma: The Hitman\\'s Journey from Prodigy to Legend**\\n\\n---\\n\\n### **I. Introduction**\\n    A. Opening Hook: Start with a defining moment (e.g., his third double-century, 2019 WC century vs. Pakistan, or being appointed captain).\\n    B. Brief Overview: Introduce Rohit Sharma as one of the most destructive and successful batters in modern cricket.\\n    C. Thesis Statement: Rohit Sharma\\'s career is a remarkable story of prodigious talent, early setbacks, incredible redemption in limited-overs cricket, and ultimate evolution into a successful leader of the Indian cricket team.\\n\\n### **II. Early Life and Background**\\n    A. Birth and Family: Born April 30, 1987, in Bansod, Nagpur, Maharashtra.\\n    B. Humble Beginnings: Modest family background; lived with his grandparents and uncle.\\n    C. Early Coaching: Guidance from coach Dinesh Lad, who recognized his talent and shifted him to a better school to focus on cricket.\\n\\n### **III. The Ascent: Domestic and Initial International Career (2006-2012)**\\n    A. Domestic Debut: Impressive performances for Mumbai in the Ranji Trophy.\\n    B. International Debut:\\n        1. ODI debut in 2007 against Ireland.\\n        2. A forgettable start; struggled to secure a permanent spot in the star-studded middle order.\\n    C. The \"Talent\" Tag: Known for his elegant technique but criticized for inconsistency and failing to convert starts into big scores.\\n    D. T20 Breakthrough: Key role in India\\'s triumph in the inaugural 2007 ICC T20 World Cup.\\n\\n### **IV. The Turning Point: Metamorphosis into an Opener (2013 onwards)**\\n    A. The Masterstroke: MS Dhoni\\'s decision to promote him to opener in ODIs during the 2013 Champions Trophy.\\n    B. Instant Impact: Immediate success in his new role, showcasing his ability to play long innings.\\n    C. Record-Breaking Spree: Beginning of his era of domination.\\n        1. First ODI double-century (209 vs. Australia, 2013).\\n        2. World Record 264 vs. Sri Lanka (2014) – the highest individual ODI score.\\n        3. Three double-centuries (a unique record).\\n\\n### **V. Playing Style and Technique**\\n    A. Batting Philosophy: Elegance meets brute force. Known for his languid, effortless style.\\n    B. Key Strengths:\\n        1. Timing over power.\\n        2. Pull and hook shots (his trademark).\\n        3. Ability to play lofted shots with minimal risk.\\n        4. Exceptorial hand-eye coordination.\\n    C. Nickname: \"The Hitman\" for his ability to hit huge sixes.\\n\\n### **VI. Career Highlights and Major Records**\\n    A. One-Day Internationals (ODIs):\\n        1. Most double-centuries (3).\\n        2. Highest individual score (264).\\n        3. Joint-fastest to 1000 ODI runs as opener.\\n        4. Five centuries in a single World Cup (2019).\\n    B. T20 Internationals (T20Is):\\n        1. Four T20I centuries (most by any player).\\n        2. Record for most sixes in a T20I innings.\\n    C. Test Cricket:\\n        1. Successful transition to Test opener in 2019.\\n        2. Multiple centuries at home and abroad.\\n    D. Indian Premier League (IPL):\\n        1. Most successful captain (5 titles with Mumbai Indians).\\n        2. One of the league\\'s highest run-scorers.\\n\\n### **VII. Leadership and Captaincy**\\n    A. Mumbai Indians: Took over captaincy in 2013; built a dynasty with 5 IPL titles (2013, 2015, 2017, 2019, 2020).\\n    B. Indian Cricket Team:\\n        1. Appointed full-time white-ball captain in 2021.\\n        2. Appointed Test captain in 2022 after Kohli\\'s resignation.\\n        3. Leadership style: Calm, tactical, and known for backing his players.\\n\\n### **VIII. Challenges and Setbacks**\\n    A. Early Career Inconsistency: Struggles with converting talent into performance.\\n    B. Injuries: Frequent injuries that have sidelined him at crucial times.\\n    C. Test Cricket Struggles: Initial difficulties in cementing his place in the Test team before becoming an opener.\\n\\n### **IX. Off the Field**\\n    A. Personal Life: Marriage to Ritika Sajdeh, a sports manager.\\n    B. Brand Endorsements: One of the most marketable cricketers in India.\\n    C. Philanthropy: Involved in various charitable initiatives.\\n\\n### **X. Legacy and Impact**\\n    A. Redefining ODI Batting: Set new benchmarks for opening batters and showed the potential for huge individual scores.\\n    B. Inspiration: A story of perseverance and adapting to new roles to achieve greatness.\\n    C. His Place in Cricket History: Where he stands among the greats of Indian and world cricket.\\n\\n### **XI. Conclusion**\\n    A. Summarize the Journey: From a talented youngster to a record-breaking opener and inspirational leader.\\n    B. Restate Thesis: His career is a testament to maximizing potential through strategic change and mental strength.\\n    C. Final Thought: Rohit Sharma\\'s story is unfinished, with his leadership in the current era poised to define his ultimate legacy.', 'content': 'Of course. Here is a detailed blog post crafted from the provided outline on Rohit Sharma.\\n\\n***\\n\\n## **Rohit Sharma: The Hitman\\'s Journey from Prodigy to Legend**\\n\\n### **I. Introduction**\\n\\nThe roar of the MCG crowd was deafening, a sea of blue waving frantically as the ball sailed effortlessly over the long-on boundary. It wasn’t just a six; it was a statement. In a high-pressure World Cup clash against Pakistan in 2019, with the weight of a billion expectations on his shoulders, Rohit Sharma compiled a masterful, unhurried 140. It was an innings that encapsulated his entire career: sublime talent, calm composure, and the ability to rise to the grandest occasions.\\n\\nRohit Gurunath Sharma is not just a cricketer; he is a phenomenon. He is the architect of carnage, the maker of records, and the gentle giant who redefined the art of limited-overs batting. His career is a cinematic tale of a prodigy burdened by the \"talent\" tag, who faced years of frustration before a strategic masterstroke unlocked his destiny, transforming him into one of the most destructive and successful batters of the modern era. This is the story of Rohit Sharma—a remarkable journey of prodigious talent, early setbacks, incredible redemption, and an ultimate evolution into a successful leader of the Indian cricket team.\\n\\n### **II. Early Life and Background**\\n\\nLong before the glittering trophies and international accolades, Rohit’s story began in the modest town of Bansod in Nagpur, Maharashtra, where he was born on April 30, 1987. Coming from a family with limited means, he lived with his grandparents, uncle, and aunt for much of his early life. His mother worked tirelessly as a caretaker in a orphanage to support his dreams.\\n\\nThe turning point in his formative years came when he was discovered by coach Dinesh Lad. Recognizing the rare spark in the young boy, Lad did more than just coach him; he became his mentor. He offered Rohit a scholarship and arranged for him to study at Swami Vivekanand International School in Mumbai, ensuring he had the platform and facilities to nurture his cricketing talent. This move from Nagpur to Mumbai, the heart of Indian cricket, was the first crucial step in the making of a legend.\\n\\n### **III. The Ascent: Domestic and Initial International Career (2006-2012)**\\n\\nRohit’s elegant stroke-play quickly made him a standout in Mumbai\\'s cricketing circles. His prolific run in domestic cricket, particularly for Mumbai in the Ranji Trophy, earned him a national call-up. He made his ODI debut in 2007 against Ireland and was part of the squad that famously won the inaugural ICC T20 World Cup later that year.\\n\\nHowever, his initial foray into international cricket was a paradox. Everyone could see the talent—the extra second he seemed to have while playing pace, the graceful cover drives, the effortless flicks. Yet, this talent frustratingly failed to consistently translate into big scores. He became known as a \"wasted talent,\" a player who would get stylish 30s and 40s but throw his wicket away. For years, he drifted in and out of the team, struggling to cement a permanent spot in a middle order crowded with legends like Tendulkar, Sehwag, Gambhir, Yuvraj, and Dhoni.\\n\\n### **IV. The Turning Point: Metamorphosis into an Opener (2013 onwards)**\\n\\nThe year 2013 marked the great divide in Rohit Sharma’s career. Then captain, MS Dhoni, made a tactical decision that would alter the course of Indian cricket history. During the Champions Trophy, Dhoni promoted Rohit to open the innings alongside Shikhar Dhawan.\\n\\nIt was a masterstroke. The move unlocked Rohit’s greatest strength: time. With the fielding restrictions on and more overs to play, he could ease into his innings, assess the conditions, and then unleash his full repertoire. The impact was immediate and spectacular. He finished the tournament as a champion and never looked back.\\n\\nThis began an era of outright domination. Later that year, he announced his arrival as a world-beater by smashing his first ODI double-century (209 vs Australia). A year later, he shattered the record books, blasting an unimaginable **264** against Sri Lanka in Kolkata—a record for the highest individual score in ODI cricket that still stands. He is the only player in history to score three double-centuries in ODIs, a testament to his unique ability to play monstrous, match-winning innings.\\n\\n### **V. Playing Style and Technique**\\n\\nRohit Sharma’s batting is a beautiful contradiction. It’s a blend of effortless elegance and brutal power. While modern cricket is often about muscular hitting, Rohit relies on exquisite timing and incredible hand-eye coordination. His signature shot, the pull, is played with a roll of the wrists and a still head, sending the ball racing to the boundary with what seems like minimal effort.\\n\\nHe is the epitome of \"lazy elegance.\" His batting appears unhurried, almost casual, belying the immense power and precision behind each shot. His ability to hit gigantic sixes—often just with a flourish of his wrists—earned him the iconic nickname **\"The Hitman.\"** He doesn\\'t just clear the boundary; he deposits the ball into the stands with nonchalant ease.\\n\\n### **VI. Career Highlights and Major Records**\\n\\nRohit Sharma’s career is a list of broken records and monumental achievements:\\n\\n*   **One-Day Internationals (ODIs):**\\n    *   Most Double-Centuries (3).\\n    *   Highest Individual Score (264 vs SL).\\n    *   Five centuries in a single World Cup (2019) - equalling the record.\\n*   **T20 Internationals (T20Is):**\\n    *   Most Centuries (5).\\n    *   Record for most sixes in a T20I innings (10).\\n*   **Test Cricket:**\\n    *   Successfully reinvented himself as a Test opener in 2019.\\n    *   Has scored centuries in all conditions, including a famous one on debut as an opener.\\n*   **Indian Premier League (IPL):**\\n    *   The most successful captain in history, leading the Mumbai Indians to five titles (2013, 2015, 2017, 2019, 2020).\\n    *   One of the league\\'s all-time highest run-scorers.\\n\\n### **VII. Leadership and Captaincy**\\n\\nRohit’s tactical acumen is as sharp as his batting. His leadership journey began with the Mumbai Indians. Taking over a team that was underperforming, he built a culture of resilience and success, forging a dynasty that has dominated the IPL.\\n\\nThis success paved the way for his ascension to the helm of the Indian national team. Appointed full-time white-ball captain in 2021 and later Test captain in 2022, Rohit brought a calm, collected demeanor. He is known for his sharp field placements, clever use of bowlers, and for fostering a relaxed environment where players are backed to express themselves.\\n\\n### **VIII. Challenges and Setbacks**\\n\\nHis journey hasn\\'t been without its struggles. The early years of inconsistency were a major mental challenge. Furthermore, his career has been frequently interrupted by injuries, often sidelining him at crucial moments, including major ICC tournaments. His initial phase in Test cricket was also a challenge, as he struggled to find his rhythm in the middle order before his rebirth as a opener solved the puzzle.\\n\\n### **IX. Off the Field**\\n\\nAway from the cricket field, Rohit is a family man, married to Ritika Sajdeh, a sports manager. Their relationship is a constant feature of support in his life. He is also one of the most sought-after celebrities in India for brand endorsements. Using his fame for good, he is involved in various philanthropic efforts, including animal welfare and supporting underprivileged children.\\n\\n### **X. Legacy and Impact**\\n\\nRohit Sharma’s legacy is multifaceted. He fundamentally changed how the opening role in ODIs is perceived, proving that an opener can be both a consistent anchor and a devastating aggressor. His story is a powerful lesson in perseverance, adaptability, and the importance of finding the right role to maximize one’s potential.\\n\\nHe stands tall among the pantheon of Indian cricket greats not just for his records, but for the sheer joy and awe his batting brings to millions of fans around the world.\\n\\n### **XI. Conclusion**\\n\\nFrom a talented youngster struggling for consistency to the record-shattering \"Hitman\" and finally to the inspirational leader of Men in Blue, Rohit Sharma’s journey is a masterclass in evolution and mental fortitude. It is a testament to the power of a second chance and the brilliance that can be unlocked with strategic vision and self-belief.\\n\\nWhile his batting records may never be surpassed, Rohit Sharma’s story is still being written. His ultimate legacy will be defined by his leadership in this era, as he aims to guide a talented Indian team to global glory. One thing is certain: whenever Rohit Sharma walks out to bat, history awaits.'}\n"
     ]
    }
   ],
   "source": [
    "output=workflow.invoke({\"title\":\"Rohit Sharma\"})\n",
    "print(output)"
   ]
  },
  {
   "cell_type": "code",
   "execution_count": 15,
   "id": "6a0ded70",
   "metadata": {},
   "outputs": [
    {
     "data": {
      "text/plain": [
       "'Of course. Here is a detailed blog post crafted from the provided outline on Rohit Sharma.\\n\\n***\\n\\n## **Rohit Sharma: The Hitman\\'s Journey from Prodigy to Legend**\\n\\n### **I. Introduction**\\n\\nThe roar of the MCG crowd was deafening, a sea of blue waving frantically as the ball sailed effortlessly over the long-on boundary. It wasn’t just a six; it was a statement. In a high-pressure World Cup clash against Pakistan in 2019, with the weight of a billion expectations on his shoulders, Rohit Sharma compiled a masterful, unhurried 140. It was an innings that encapsulated his entire career: sublime talent, calm composure, and the ability to rise to the grandest occasions.\\n\\nRohit Gurunath Sharma is not just a cricketer; he is a phenomenon. He is the architect of carnage, the maker of records, and the gentle giant who redefined the art of limited-overs batting. His career is a cinematic tale of a prodigy burdened by the \"talent\" tag, who faced years of frustration before a strategic masterstroke unlocked his destiny, transforming him into one of the most destructive and successful batters of the modern era. This is the story of Rohit Sharma—a remarkable journey of prodigious talent, early setbacks, incredible redemption, and an ultimate evolution into a successful leader of the Indian cricket team.\\n\\n### **II. Early Life and Background**\\n\\nLong before the glittering trophies and international accolades, Rohit’s story began in the modest town of Bansod in Nagpur, Maharashtra, where he was born on April 30, 1987. Coming from a family with limited means, he lived with his grandparents, uncle, and aunt for much of his early life. His mother worked tirelessly as a caretaker in a orphanage to support his dreams.\\n\\nThe turning point in his formative years came when he was discovered by coach Dinesh Lad. Recognizing the rare spark in the young boy, Lad did more than just coach him; he became his mentor. He offered Rohit a scholarship and arranged for him to study at Swami Vivekanand International School in Mumbai, ensuring he had the platform and facilities to nurture his cricketing talent. This move from Nagpur to Mumbai, the heart of Indian cricket, was the first crucial step in the making of a legend.\\n\\n### **III. The Ascent: Domestic and Initial International Career (2006-2012)**\\n\\nRohit’s elegant stroke-play quickly made him a standout in Mumbai\\'s cricketing circles. His prolific run in domestic cricket, particularly for Mumbai in the Ranji Trophy, earned him a national call-up. He made his ODI debut in 2007 against Ireland and was part of the squad that famously won the inaugural ICC T20 World Cup later that year.\\n\\nHowever, his initial foray into international cricket was a paradox. Everyone could see the talent—the extra second he seemed to have while playing pace, the graceful cover drives, the effortless flicks. Yet, this talent frustratingly failed to consistently translate into big scores. He became known as a \"wasted talent,\" a player who would get stylish 30s and 40s but throw his wicket away. For years, he drifted in and out of the team, struggling to cement a permanent spot in a middle order crowded with legends like Tendulkar, Sehwag, Gambhir, Yuvraj, and Dhoni.\\n\\n### **IV. The Turning Point: Metamorphosis into an Opener (2013 onwards)**\\n\\nThe year 2013 marked the great divide in Rohit Sharma’s career. Then captain, MS Dhoni, made a tactical decision that would alter the course of Indian cricket history. During the Champions Trophy, Dhoni promoted Rohit to open the innings alongside Shikhar Dhawan.\\n\\nIt was a masterstroke. The move unlocked Rohit’s greatest strength: time. With the fielding restrictions on and more overs to play, he could ease into his innings, assess the conditions, and then unleash his full repertoire. The impact was immediate and spectacular. He finished the tournament as a champion and never looked back.\\n\\nThis began an era of outright domination. Later that year, he announced his arrival as a world-beater by smashing his first ODI double-century (209 vs Australia). A year later, he shattered the record books, blasting an unimaginable **264** against Sri Lanka in Kolkata—a record for the highest individual score in ODI cricket that still stands. He is the only player in history to score three double-centuries in ODIs, a testament to his unique ability to play monstrous, match-winning innings.\\n\\n### **V. Playing Style and Technique**\\n\\nRohit Sharma’s batting is a beautiful contradiction. It’s a blend of effortless elegance and brutal power. While modern cricket is often about muscular hitting, Rohit relies on exquisite timing and incredible hand-eye coordination. His signature shot, the pull, is played with a roll of the wrists and a still head, sending the ball racing to the boundary with what seems like minimal effort.\\n\\nHe is the epitome of \"lazy elegance.\" His batting appears unhurried, almost casual, belying the immense power and precision behind each shot. His ability to hit gigantic sixes—often just with a flourish of his wrists—earned him the iconic nickname **\"The Hitman.\"** He doesn\\'t just clear the boundary; he deposits the ball into the stands with nonchalant ease.\\n\\n### **VI. Career Highlights and Major Records**\\n\\nRohit Sharma’s career is a list of broken records and monumental achievements:\\n\\n*   **One-Day Internationals (ODIs):**\\n    *   Most Double-Centuries (3).\\n    *   Highest Individual Score (264 vs SL).\\n    *   Five centuries in a single World Cup (2019) - equalling the record.\\n*   **T20 Internationals (T20Is):**\\n    *   Most Centuries (5).\\n    *   Record for most sixes in a T20I innings (10).\\n*   **Test Cricket:**\\n    *   Successfully reinvented himself as a Test opener in 2019.\\n    *   Has scored centuries in all conditions, including a famous one on debut as an opener.\\n*   **Indian Premier League (IPL):**\\n    *   The most successful captain in history, leading the Mumbai Indians to five titles (2013, 2015, 2017, 2019, 2020).\\n    *   One of the league\\'s all-time highest run-scorers.\\n\\n### **VII. Leadership and Captaincy**\\n\\nRohit’s tactical acumen is as sharp as his batting. His leadership journey began with the Mumbai Indians. Taking over a team that was underperforming, he built a culture of resilience and success, forging a dynasty that has dominated the IPL.\\n\\nThis success paved the way for his ascension to the helm of the Indian national team. Appointed full-time white-ball captain in 2021 and later Test captain in 2022, Rohit brought a calm, collected demeanor. He is known for his sharp field placements, clever use of bowlers, and for fostering a relaxed environment where players are backed to express themselves.\\n\\n### **VIII. Challenges and Setbacks**\\n\\nHis journey hasn\\'t been without its struggles. The early years of inconsistency were a major mental challenge. Furthermore, his career has been frequently interrupted by injuries, often sidelining him at crucial moments, including major ICC tournaments. His initial phase in Test cricket was also a challenge, as he struggled to find his rhythm in the middle order before his rebirth as a opener solved the puzzle.\\n\\n### **IX. Off the Field**\\n\\nAway from the cricket field, Rohit is a family man, married to Ritika Sajdeh, a sports manager. Their relationship is a constant feature of support in his life. He is also one of the most sought-after celebrities in India for brand endorsements. Using his fame for good, he is involved in various philanthropic efforts, including animal welfare and supporting underprivileged children.\\n\\n### **X. Legacy and Impact**\\n\\nRohit Sharma’s legacy is multifaceted. He fundamentally changed how the opening role in ODIs is perceived, proving that an opener can be both a consistent anchor and a devastating aggressor. His story is a powerful lesson in perseverance, adaptability, and the importance of finding the right role to maximize one’s potential.\\n\\nHe stands tall among the pantheon of Indian cricket greats not just for his records, but for the sheer joy and awe his batting brings to millions of fans around the world.\\n\\n### **XI. Conclusion**\\n\\nFrom a talented youngster struggling for consistency to the record-shattering \"Hitman\" and finally to the inspirational leader of Men in Blue, Rohit Sharma’s journey is a masterclass in evolution and mental fortitude. It is a testament to the power of a second chance and the brilliance that can be unlocked with strategic vision and self-belief.\\n\\nWhile his batting records may never be surpassed, Rohit Sharma’s story is still being written. His ultimate legacy will be defined by his leadership in this era, as he aims to guide a talented Indian team to global glory. One thing is certain: whenever Rohit Sharma walks out to bat, history awaits.'"
      ]
     },
     "execution_count": 15,
     "metadata": {},
     "output_type": "execute_result"
    }
   ],
   "source": [
    "output['content']"
   ]
  },
  {
   "cell_type": "code",
   "execution_count": 16,
   "id": "d08fe75a",
   "metadata": {},
   "outputs": [],
   "source": [
    "## generate the evaluation score"
   ]
  },
  {
   "cell_type": "code",
   "execution_count": null,
   "id": "3cf79d2f",
   "metadata": {},
   "outputs": [],
   "source": []
  },
  {
   "cell_type": "code",
   "execution_count": null,
   "id": "be7dbeb2",
   "metadata": {},
   "outputs": [],
   "source": []
  },
  {
   "cell_type": "code",
   "execution_count": null,
   "id": "b34bb8f8",
   "metadata": {},
   "outputs": [],
   "source": []
  }
 ],
 "metadata": {
  "kernelspec": {
   "display_name": "myvenv (3.13.3)",
   "language": "python",
   "name": "python3"
  },
  "language_info": {
   "codemirror_mode": {
    "name": "ipython",
    "version": 3
   },
   "file_extension": ".py",
   "mimetype": "text/x-python",
   "name": "python",
   "nbconvert_exporter": "python",
   "pygments_lexer": "ipython3",
   "version": "3.13.3"
  }
 },
 "nbformat": 4,
 "nbformat_minor": 5
}
